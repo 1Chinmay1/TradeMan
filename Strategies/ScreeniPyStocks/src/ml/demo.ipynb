{
 "cells": [
  {
   "cell_type": "code",
   "execution_count": 1,
   "metadata": {},
   "outputs": [
    {
     "name": "stdout",
     "output_type": "stream",
     "text": [
      "Note: you may need to restart the kernel to use updated packages.Collecting TA-Lib\n",
      "  Downloading TA-Lib-0.4.28.tar.gz (357 kB)\n",
      "                                              0.0/357.1 kB ? eta -:--:--\n",
      "     -----------------------                225.3/357.1 kB 6.9 MB/s eta 0:00:01\n",
      "     -------------------------------------- 357.1/357.1 kB 5.6 MB/s eta 0:00:00\n",
      "  Installing build dependencies: started\n",
      "  Installing build dependencies: finished with status 'done'\n",
      "  Getting requirements to build wheel: started\n",
      "  Getting requirements to build wheel: finished with status 'done'\n",
      "  Installing backend dependencies: started\n",
      "  Installing backend dependencies: finished with status 'done'\n",
      "  Preparing metadata (pyproject.toml): started\n",
      "  Preparing metadata (pyproject.toml): finished with status 'done'\n",
      "Requirement already satisfied: numpy in c:\\users\\vanis\\appdata\\local\\programs\\python\\python311\\lib\\site-packages (from TA-Lib) (1.24.2)\n",
      "Building wheels for collected packages: TA-Lib\n",
      "  Building wheel for TA-Lib (pyproject.toml): started\n",
      "  Building wheel for TA-Lib (pyproject.toml): finished with status 'error'\n",
      "Failed to build TA-Lib\n",
      "\n"
     ]
    },
    {
     "name": "stderr",
     "output_type": "stream",
     "text": [
      "  error: subprocess-exited-with-error\n",
      "  \n",
      "  × Building wheel for TA-Lib (pyproject.toml) did not run successfully.\n",
      "  │ exit code: 1\n",
      "  ╰─> [20 lines of output]\n",
      "      <string>:77: UserWarning: Cannot find ta-lib library, installation may fail.\n",
      "      running bdist_wheel\n",
      "      running build\n",
      "      running build_py\n",
      "      creating build\n",
      "      creating build\\lib.win-amd64-cpython-311\n",
      "      creating build\\lib.win-amd64-cpython-311\\talib\n",
      "      copying talib\\abstract.py -> build\\lib.win-amd64-cpython-311\\talib\n",
      "      copying talib\\deprecated.py -> build\\lib.win-amd64-cpython-311\\talib\n",
      "      copying talib\\stream.py -> build\\lib.win-amd64-cpython-311\\talib\n",
      "      copying talib\\__init__.py -> build\\lib.win-amd64-cpython-311\\talib\n",
      "      running build_ext\n",
      "      building 'talib._ta_lib' extension\n",
      "      creating build\\temp.win-amd64-cpython-311\n",
      "      creating build\\temp.win-amd64-cpython-311\\Release\n",
      "      creating build\\temp.win-amd64-cpython-311\\Release\\talib\n",
      "      \"C:\\Program Files (x86)\\Microsoft Visual Studio\\2019\\BuildTools\\VC\\Tools\\MSVC\\14.29.30133\\bin\\HostX86\\x64\\cl.exe\" /c /nologo /O2 /W3 /GL /DNDEBUG /MD -Ic:\\ta-lib\\c\\include -IC:\\Users\\vanis\\AppData\\Local\\Temp\\pip-build-env-gago7r1z\\normal\\Lib\\site-packages\\numpy\\core\\include -Ic:\\Users\\vanis\\AppData\\Local\\Programs\\Python\\Python311\\include -Ic:\\Users\\vanis\\AppData\\Local\\Programs\\Python\\Python311\\Include \"-IC:\\Program Files (x86)\\Microsoft Visual Studio\\2019\\BuildTools\\VC\\Tools\\MSVC\\14.29.30133\\include\" \"-IC:\\Program Files (x86)\\Windows Kits\\10\\include\\10.0.19041.0\\ucrt\" \"-IC:\\Program Files (x86)\\Windows Kits\\10\\include\\10.0.19041.0\\shared\" \"-IC:\\Program Files (x86)\\Windows Kits\\10\\include\\10.0.19041.0\\um\" \"-IC:\\Program Files (x86)\\Windows Kits\\10\\include\\10.0.19041.0\\winrt\" \"-IC:\\Program Files (x86)\\Windows Kits\\10\\include\\10.0.19041.0\\cppwinrt\" /Tctalib/_ta_lib.c /Fobuild\\temp.win-amd64-cpython-311\\Release\\talib/_ta_lib.obj\n",
      "      _ta_lib.c\n",
      "      talib/_ta_lib.c(1080): fatal error C1083: Cannot open include file: 'ta_libc.h': No such file or directory\n",
      "      error: command 'C:\\\\Program Files (x86)\\\\Microsoft Visual Studio\\\\2019\\\\BuildTools\\\\VC\\\\Tools\\\\MSVC\\\\14.29.30133\\\\bin\\\\HostX86\\\\x64\\\\cl.exe' failed with exit code 2\n",
      "      [end of output]\n",
      "  \n",
      "  note: This error originates from a subprocess, and is likely not a problem with pip.\n",
      "  ERROR: Failed building wheel for TA-Lib\n",
      "ERROR: Could not build wheels for TA-Lib, which is required to install pyproject.toml-based projects\n",
      "\n",
      "[notice] A new release of pip is available: 23.1.2 -> 23.3\n",
      "[notice] To update, run: python.exe -m pip install --upgrade pip\n"
     ]
    }
   ],
   "source": [
    "pip install TA-Lib"
   ]
  }
 ],
 "metadata": {
  "kernelspec": {
   "display_name": "Python 3",
   "language": "python",
   "name": "python3"
  },
  "language_info": {
   "codemirror_mode": {
    "name": "ipython",
    "version": 3
   },
   "file_extension": ".py",
   "mimetype": "text/x-python",
   "name": "python",
   "nbconvert_exporter": "python",
   "pygments_lexer": "ipython3",
   "version": "3.11.2"
  },
  "orig_nbformat": 4
 },
 "nbformat": 4,
 "nbformat_minor": 2
}
